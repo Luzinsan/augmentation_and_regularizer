{
  "nbformat": 4,
  "nbformat_minor": 0,
  "metadata": {
    "accelerator": "GPU",
    "colab": {
      "name": "Copy of Handwritten Chinese v3.ipynb",
      "provenance": [],
      "collapsed_sections": [],
      "include_colab_link": true
    },
    "kernelspec": {
      "display_name": "Python 3",
      "name": "python3"
    }
  },
  "cells": [
    {
      "cell_type": "markdown",
      "metadata": {
        "id": "view-in-github",
        "colab_type": "text"
      },
      "source": [
        "<a href=\"https://colab.research.google.com/github/Luzinsan/augmentation_and_regularizer/blob/main/Copy_of_Handwritten_Chinese_v3.ipynb\" target=\"_parent\"><img src=\"https://colab.research.google.com/assets/colab-badge.svg\" alt=\"Open In Colab\"/></a>"
      ]
    },
    {
      "cell_type": "code",
      "metadata": {
        "colab": {
          "base_uri": "https://localhost:8080/"
        },
        "id": "-HlCG5i4kDnS",
        "outputId": "d9edaf20-fa6e-44b0-a9ae-c4a8befb7c9a"
      },
      "source": [
        "import numpy as np\n",
        "import time\n",
        "import PIL.Image as Image\n",
        "import matplotlib.pylab as plt\n",
        "import tensorflow as tf\n",
        "import os\n",
        "import zipfile\n",
        "import shutil\n",
        "\n",
        "\n",
        "!git clone https://github.com/AI-FREE-Team/Traditional-Chinese-Handwriting-Dataset.git\n",
        "OutputFolder = '/content/Handwritten_Data'\n",
        "!rm -rf '/content/Handwritten_Data'"
      ],
      "execution_count": 31,
      "outputs": [
        {
          "output_type": "stream",
          "name": "stdout",
          "text": [
            "Cloning into 'Traditional-Chinese-Handwriting-Dataset'...\n",
            "remote: Enumerating objects: 174, done.\u001b[K\n",
            "remote: Counting objects: 100% (156/156), done.\u001b[K\n",
            "remote: Compressing objects: 100% (149/149), done.\u001b[K\n",
            "remote: Total 174 (delta 75), reused 22 (delta 6), pack-reused 18\u001b[K\n",
            "Receiving objects: 100% (174/174), 77.40 MiB | 25.11 MiB/s, done.\n",
            "Resolving deltas: 100% (77/77), done.\n"
          ]
        }
      ]
    },
    {
      "cell_type": "code",
      "metadata": {
        "id": "tIMzxCtACUxL"
      },
      "source": [
        "SIZE = 150 # рассматриваем 150 классов"
      ],
      "execution_count": 32,
      "outputs": []
    },
    {
      "cell_type": "code",
      "metadata": {
        "id": "NEsfKRwc_bg0",
        "colab": {
          "base_uri": "https://localhost:8080/"
        },
        "outputId": "47a24fc8-dc44-40bc-f65c-3732225c81ed"
      },
      "source": [
        "CompressedFiles = []\n",
        "\n",
        "os.chdir('/content/Traditional-Chinese-Handwriting-Dataset/data')\n",
        "\n",
        "for item in os.listdir():  \n",
        "  if item.endswith('.zip'): # Check for \".zip\" extension.\n",
        "    file_path = os.path.abspath(item) # Get full path of the compressed file. \n",
        "    CompressedFiles.append(file_path)\n",
        "\n",
        "for file in CompressedFiles:     \n",
        "  # Construct a ZipFile object with the filename, and then extract it.\n",
        "  zip_ref = zipfile.ZipFile(file).extractall(OutputFolder) \n",
        "  \n",
        "  source_path = OutputFolder + '/cleaned_data(50_50)'\n",
        "  img_list = os.listdir(source_path)\n",
        "\n",
        "  for img in img_list:\n",
        "      shutil.move(source_path + '/' + img, OutputFolder) # Move a file to another location. \n",
        "  \n",
        "  shutil.rmtree(OutputFolder + '/cleaned_data(50_50)') \n",
        "  #print(f'Decompress successfully {file} ......')\n",
        "  #print( 'Moving images according to traditional Chinese characters......' )\n",
        "\n",
        "ImageList = os.listdir(OutputFolder)\n",
        "ImageList = [img for img in ImageList if len(img)>1]\n",
        "WordList = list(set([w.split('_')[0] for w in ImageList]))[:SIZE]\n",
        "\n",
        "for w in WordList:\n",
        "  try:\n",
        "    os.chdir(OutputFolder) # Change the current working directory to OutputPath.\n",
        "    os.mkdir(w) # Create the new word folder in OutputPath.\n",
        "    MoveList = [img for img in ImageList if w in img]\n",
        "                \n",
        "  except: \n",
        "    os.chdir(OutputFolder)\n",
        "    MoveList = [img for img in ImageList if w in img ]\n",
        "  \n",
        "  finally:            \n",
        "    for img in MoveList:\n",
        "      old_path = OutputFolder + '/' + img\n",
        "      new_path = OutputFolder + '/' + w + '/' + img\n",
        "      shutil.move( old_path, new_path )\n",
        "\n",
        "print( 'Data Deployment completed.' )"
      ],
      "execution_count": 33,
      "outputs": [
        {
          "output_type": "stream",
          "name": "stdout",
          "text": [
            "Data Deployment completed.\n"
          ]
        }
      ]
    },
    {
      "cell_type": "code",
      "metadata": {
        "id": "BtJidZSSed2C"
      },
      "source": [
        "a=0\n",
        "b=0\n",
        "\n",
        "for item in os.listdir(OutputFolder):\n",
        "  if (os.path.isdir(item)):  \n",
        "    a += 1\n",
        "    for i in os.listdir(OutputFolder + '/' + item):\n",
        "      b +=1\n",
        "\n",
        "#print ('Всего: ' + str(a) + ' слов (папка) / Всего: ' + str(b) + ' образцов')\n",
        "#print ('В среднем каждое слово содержит: ' + str (b / a) + ' образцов')"
      ],
      "execution_count": 34,
      "outputs": []
    },
    {
      "cell_type": "code",
      "metadata": {
        "id": "8BZsXzH5dSZA",
        "colab": {
          "base_uri": "https://localhost:8080/"
        },
        "outputId": "137bfc30-1f96-4b9b-f8e7-7e18ddd90de3"
      },
      "source": [
        "image_generator = tf.keras.preprocessing.image.ImageDataGenerator(validation_split=0.1)\n",
        "train_dataset = image_generator.flow_from_directory(str(OutputFolder), class_mode='sparse', batch_size=10, target_size=(50, 50), subset='training')\n",
        "valid_dataset = image_generator.flow_from_directory(str(OutputFolder), class_mode='sparse', batch_size=10, target_size=(50, 50), subset='validation')"
      ],
      "execution_count": 35,
      "outputs": [
        {
          "output_type": "stream",
          "name": "stdout",
          "text": [
            "Found 7050 images belonging to 150 classes.\n",
            "Found 735 images belonging to 150 classes.\n"
          ]
        }
      ]
    },
    {
      "cell_type": "code",
      "metadata": {
        "id": "Sodcd863Adst"
      },
      "source": [
        "data_augmentation = tf.keras.Sequential([\n",
        "  tf.keras.layers.RandomFlip(\"horizontal_and_vertical\"),\n",
        "  tf.keras.layers.RandomRotation(0.2),\n",
        "])"
      ],
      "execution_count": 36,
      "outputs": []
    },
    {
      "cell_type": "code",
      "metadata": {
        "id": "5EGnVs1JIdcD"
      },
      "source": [
        "IMG_SIZE = 30\n",
        "\n",
        "resize_and_rescale = tf.keras.Sequential([\n",
        "  tf.keras.layers.Resizing(IMG_SIZE, IMG_SIZE),\n",
        "  tf.keras.layers.Rescaling(1./255)\n",
        "])"
      ],
      "execution_count": 37,
      "outputs": []
    },
    {
      "cell_type": "code",
      "metadata": {
        "id": "G5yTllMEdfrp",
        "colab": {
          "base_uri": "https://localhost:8080/",
          "height": 285
        },
        "outputId": "cb4f750c-f4ba-4d99-fdb8-afb269fb7cbb"
      },
      "source": [
        "for image_b, label_b in train_dataset:\n",
        "  #print(\"Image batch shape: \", image_b.shape)\n",
        "  #print(\"Label batch shape: \", label_b.shape)\n",
        "  plt.imshow(image_b[1])\n",
        "  image_batch = resize_and_rescale(image_b)\n",
        "  \n",
        "  label_batch = label_b\n",
        "  #print(label_batch)\n",
        "  break"
      ],
      "execution_count": 38,
      "outputs": [
        {
          "output_type": "stream",
          "name": "stderr",
          "text": [
            "Clipping input data to the valid range for imshow with RGB data ([0..1] for floats or [0..255] for integers).\n"
          ]
        },
        {
          "output_type": "display_data",
          "data": {
            "image/png": "[encoded data removed]",
            "text/plain": [
              "<Figure size 432x288 with 1 Axes>"
            ]
          },
          "metadata": {
            "needs_background": "light"
          }
        }
      ]
    },
    {
      "cell_type": "code",
      "metadata": {
        "id": "etnfw23vswSZ",
        "colab": {
          "base_uri": "https://localhost:8080/",
          "height": 285
        },
        "outputId": "600ef016-d66f-49e9-f0e1-4550d68236df"
      },
      "source": [
        "plt.imshow(image_batch[1])"
      ],
      "execution_count": 39,
      "outputs": [
        {
          "output_type": "execute_result",
          "data": {
            "text/plain": [
              "<matplotlib.image.AxesImage at 0x7f7135654090>"
            ]
          },
          "metadata": {},
          "execution_count": 39
        },
        {
          "output_type": "display_data",
          "data": {
            "image/png": "[encoded data removed]",
            "text/plain": [
              "<Figure size 432x288 with 1 Axes>"
            ]
          },
          "metadata": {
            "needs_background": "light"
          }
        }
      ]
    },
    {
      "cell_type": "code",
      "metadata": {
        "id": "WucSLXxZdpuc",
        "colab": {
          "base_uri": "https://localhost:8080/"
        },
        "outputId": "98626967-454b-4db0-813c-581694344b30"
      },
      "source": [
        "model = tf.keras.Sequential([\n",
        "  tf.keras.layers.Conv2D(filters=16,  kernel_size=3, activation='relu', padding= 'same' , input_shape=(50,50,3)),\n",
        "  tf.keras.layers.MaxPooling2D(pool_size=(2,2), strides=2),\n",
        "  tf.keras.layers.Conv2D(filters=32,  kernel_size=3, activation='relu', padding= 'same'),\n",
        "  tf.keras.layers.MaxPooling2D(pool_size=(2,2), strides=2),\n",
        "  tf.keras.layers.Conv2D(filters=64,  kernel_size=3, activation='relu', padding= 'same'),\n",
        "  tf.keras.layers.MaxPooling2D(pool_size=(2,2), strides=2),\n",
        "  tf.keras.layers.Conv2D(filters=128,  kernel_size=2, activation='relu', padding= 'same'),\n",
        "  tf.keras.layers.MaxPooling2D(pool_size=(2,2), strides=2),\n",
        "  tf.keras.layers.Conv2D(filters=256,  kernel_size=2, activation='relu', padding= 'same'),\n",
        "\n",
        "  tf.keras.layers.Flatten(),\n",
        "  tf.keras.layers.Dense(512, activation='relu', kernel_regularizer=tf.keras.regularizers.l2(0.001)),\n",
        "  #tf.keras.layers.Dropout(0.4),\n",
        "  tf.keras.layers.Dense(SIZE, activation='softmax')\n",
        "])\n",
        "\n",
        "model.summary()"
      ],
      "execution_count": 40,
      "outputs": [
        {
          "output_type": "stream",
          "name": "stdout",
          "text": [
            "Model: \"sequential_8\"\n",
            "_________________________________________________________________\n",
            " Layer (type)                Output Shape              Param #   \n",
            "=================================================================\n",
            " conv2d_10 (Conv2D)          (None, 50, 50, 16)        448       \n",
            "                                                                 \n",
            " max_pooling2d_8 (MaxPooling  (None, 25, 25, 16)       0         \n",
            " 2D)                                                             \n",
            "                                                                 \n",
            " conv2d_11 (Conv2D)          (None, 25, 25, 32)        4640      \n",
            "                                                                 \n",
            " max_pooling2d_9 (MaxPooling  (None, 12, 12, 32)       0         \n",
            " 2D)                                                             \n",
            "                                                                 \n",
            " conv2d_12 (Conv2D)          (None, 12, 12, 64)        18496     \n",
            "                                                                 \n",
            " max_pooling2d_10 (MaxPoolin  (None, 6, 6, 64)         0         \n",
            " g2D)                                                            \n",
            "                                                                 \n",
            " conv2d_13 (Conv2D)          (None, 6, 6, 128)         32896     \n",
            "                                                                 \n",
            " max_pooling2d_11 (MaxPoolin  (None, 3, 3, 128)        0         \n",
            " g2D)                                                            \n",
            "                                                                 \n",
            " conv2d_14 (Conv2D)          (None, 3, 3, 256)         131328    \n",
            "                                                                 \n",
            " flatten_2 (Flatten)         (None, 2304)              0         \n",
            "                                                                 \n",
            " dense_4 (Dense)             (None, 512)               1180160   \n",
            "                                                                 \n",
            " dense_5 (Dense)             (None, 150)               76950     \n",
            "                                                                 \n",
            "=================================================================\n",
            "Total params: 1,444,918\n",
            "Trainable params: 1,444,918\n",
            "Non-trainable params: 0\n",
            "_________________________________________________________________\n"
          ]
        }
      ]
    },
    {
      "cell_type": "code",
      "metadata": {
        "id": "FKYthET16Sez"
      },
      "source": [
        "lr_schedule = tf.keras.optimizers.schedules.InverseTimeDecay(1.8, decay_steps = 705*5, decay_rate = 0.1, staircase = False)"
      ],
      "execution_count": 41,
      "outputs": []
    },
    {
      "cell_type": "code",
      "metadata": {
        "id": "pWAuDixXdzYa",
        "colab": {
          "base_uri": "https://localhost:8080/"
        },
        "outputId": "5ffbf5a3-dc18-49d0-9759-91eedd8ff655"
      },
      "source": [
        "model.compile(\n",
        "  optimizer=tf.keras.optimizers.Adadelta(lr_schedule),\n",
        "  loss=tf.keras.losses.SparseCategoricalCrossentropy(),\n",
        "  metrics=['accuracy']\n",
        ")\n",
        "EPOCHS = 20\n",
        "history = model.fit(train_dataset,\n",
        "                    validation_data=valid_dataset,\n",
        "                    epochs=EPOCHS)"
      ],
      "execution_count": null,
      "outputs": [
        {
          "output_type": "stream",
          "name": "stdout",
          "text": [
            "Epoch 1/20\n",
            "705/705 [==============================] - 10s 13ms/step - loss: 5.4838 - accuracy: 0.0356 - val_loss: 4.2952 - val_accuracy: 0.0857\n",
            "Epoch 2/20\n",
            "705/705 [==============================] - 9s 13ms/step - loss: 2.4000 - accuracy: 0.3989 - val_loss: 1.8732 - val_accuracy: 0.5020\n",
            "Epoch 3/20\n",
            "705/705 [==============================] - 9s 13ms/step - loss: 1.0923 - accuracy: 0.7111 - val_loss: 1.0705 - val_accuracy: 0.7510\n",
            "Epoch 4/20\n",
            "705/705 [==============================] - 9s 13ms/step - loss: 0.7028 - accuracy: 0.8281 - val_loss: 0.9492 - val_accuracy: 0.7578\n",
            "Epoch 5/20\n",
            "705/705 [==============================] - 9s 13ms/step - loss: 0.5069 - accuracy: 0.8774 - val_loss: 0.8544 - val_accuracy: 0.8190\n",
            "Epoch 6/20\n",
            "705/705 [==============================] - 9s 13ms/step - loss: 0.3963 - accuracy: 0.9099 - val_loss: 0.7396 - val_accuracy: 0.8463\n",
            "Epoch 7/20\n",
            "705/705 [==============================] - 9s 13ms/step - loss: 0.3280 - accuracy: 0.9323 - val_loss: 0.6404 - val_accuracy: 0.8612\n",
            "Epoch 8/20\n",
            "705/705 [==============================] - 9s 13ms/step - loss: 0.2656 - accuracy: 0.9479 - val_loss: 0.7991 - val_accuracy: 0.8476\n",
            "Epoch 9/20\n",
            "705/705 [==============================] - 9s 13ms/step - loss: 0.2388 - accuracy: 0.9553 - val_loss: 0.6747 - val_accuracy: 0.8667\n",
            "Epoch 10/20\n",
            "705/705 [==============================] - 9s 13ms/step - loss: 0.1948 - accuracy: 0.9650 - val_loss: 0.7105 - val_accuracy: 0.8816\n",
            "Epoch 11/20\n",
            "705/705 [==============================] - 9s 13ms/step - loss: 0.1708 - accuracy: 0.9706 - val_loss: 0.7589 - val_accuracy: 0.8816\n",
            "Epoch 12/20\n",
            "579/705 [=======================>......] - ETA: 1s - loss: 0.1784 - accuracy: 0.9693"
          ]
        }
      ]
    },
    {
      "cell_type": "code",
      "metadata": {
        "id": "XY8w5Bk0duJZ"
      },
      "source": [
        "acc = history.history['accuracy']\n",
        "val_acc = history.history['val_accuracy']\n",
        "\n",
        "loss = history.history['loss']\n",
        "val_loss = history.history['val_loss']\n",
        "\n",
        "plt.figure(figsize=(10, 10))\n",
        "plt.subplot(2, 1, 1)\n",
        "plt.plot(acc, label='Training Accuracy')\n",
        "plt.plot(val_acc, label='Validation Accuracy')\n",
        "plt.legend(loc='lower right')\n",
        "plt.ylabel('Accuracy')\n",
        "plt.ylim([min(plt.ylim()),1])\n",
        "plt.title('Training and Validation Accuracy')\n",
        "\n",
        "plt.subplot(2, 1, 2)\n",
        "plt.plot(loss, label='Training Loss')\n",
        "plt.plot(val_loss, label='Validation Loss')\n",
        "plt.legend(loc='upper right')\n",
        "plt.ylabel('Cross Entropy')\n",
        "plt.ylim([min(plt.ylim()),max(plt.ylim())])\n",
        "plt.title('Training and Validation Loss')\n",
        "plt.xlabel('epoch')\n",
        "plt.show()"
      ],
      "execution_count": null,
      "outputs": []
    }
  ]
}